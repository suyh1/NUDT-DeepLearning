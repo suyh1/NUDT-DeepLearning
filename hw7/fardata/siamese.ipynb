{
 "cells": [
  {
   "cell_type": "code",
   "execution_count": 16,
   "metadata": {
    "collapsed": true,
    "ExecuteTime": {
     "start_time": "2023-04-22T11:04:36.186580Z",
     "end_time": "2023-04-22T11:04:36.818764Z"
    }
   },
   "outputs": [],
   "source": [
    "import numpy as np\n",
    "import tensorflow as tf\n",
    "import random\n",
    "import sklearn\n",
    "from sklearn import metrics\n",
    "from tensorflow.keras.utils import plot_model\n",
    "from tensorflow.keras import backend as K"
   ]
  },
  {
   "cell_type": "code",
   "execution_count": 14,
   "outputs": [],
   "source": [
    "path = './dataset/mnist.npz'\n",
    "f = np.load(path)\n",
    "x_train, y_train = f['x_train'], f['y_train']\n",
    "x_test, y_test = f['x_test'], f['y_test']\n",
    "f.close()\n",
    "\n",
    "h = x_train.shape[1] // 2\n",
    "w = x_train.shape[2] // 2\n",
    "\n",
    "x_train = np.expand_dims(x_train, axis=-1)\n",
    "x_train = tf.image.resize(x_train, [h, w]).numpy()  # if we want to resize\n",
    "x_test = np.expand_dims(x_test, axis=-1)\n",
    "x_test = tf.image.resize(x_test, [h, w]).numpy()  # if we want to resize\n",
    "\n",
    "#测试也是255归一化的数据，请不要改归一化\n",
    "x_train = x_train / 255.\n",
    "x_test = x_test/ 255.\n",
    "\n",
    "num_classes = 10"
   ],
   "metadata": {
    "collapsed": false,
    "ExecuteTime": {
     "start_time": "2023-04-22T11:02:42.241940Z",
     "end_time": "2023-04-22T11:02:42.487024Z"
    }
   }
  },
  {
   "cell_type": "code",
   "execution_count": null,
   "outputs": [],
   "source": [
    "print(x_train)"
   ],
   "metadata": {
    "collapsed": false,
    "ExecuteTime": {
     "start_time": "2023-04-22T10:28:12.170459Z",
     "end_time": "2023-04-22T10:28:12.182459Z"
    }
   }
  },
  {
   "cell_type": "code",
   "execution_count": null,
   "outputs": [],
   "source": [
    "'''\n",
    "(1) 正例（同一数字对）8000个、反例（不同数字对）9000个。正例中，10个数字类型各占1/10，800个。\n",
    "(2) 反例中，不同数字对的所有组合共C^2_10=45种，要求比例也为相同，即反例中，45种组合每个组合比例为1/45，200个。\n",
    "'''\n",
    "def make_batch(batch_size,dataset):\n",
    "\n",
    "    return (input_a, input_b), label"
   ],
   "metadata": {
    "collapsed": false
   }
  },
  {
   "cell_type": "code",
   "execution_count": 7,
   "outputs": [],
   "source": [
    "#train_set = tf.data.Dataset.from_tensor_slices((x_train, y_train))\n",
    "#val_set = tf.data.Dataset.from_tensor_slices((x_test, y_test))\n",
    "train_set = [x_train, y_train]"
   ],
   "metadata": {
    "collapsed": false,
    "ExecuteTime": {
     "start_time": "2023-04-22T10:42:33.818631Z",
     "end_time": "2023-04-22T10:42:33.842350Z"
    }
   }
  },
  {
   "cell_type": "code",
   "execution_count": 12,
   "outputs": [
    {
     "name": "stdout",
     "output_type": "stream",
     "text": [
      "5\n"
     ]
    }
   ],
   "source": [
    "print(y_train[0])"
   ],
   "metadata": {
    "collapsed": false,
    "ExecuteTime": {
     "start_time": "2023-04-22T10:45:54.319783Z",
     "end_time": "2023-04-22T10:45:54.334017Z"
    }
   }
  },
  {
   "cell_type": "code",
   "execution_count": 20,
   "outputs": [],
   "source": [
    "#2. 对数据进行混洗\n",
    "s_index=np.arange(len(y_train))\n",
    "np.random.shuffle(s_index)\n",
    "s_y_train=y_train[s_index]\n",
    "s_x_train=x_train[s_index]\n",
    "\n",
    "#3. 将MNIST数据按类型连续排列，np.where返回满足条件的多维数组中的元素的坐标，\n",
    "#返回坐标的每一维合成一个tuple。标签只有一个维度，固选[0]\n",
    "index1 = [np.where(s_y_train == i)[0] for i in range(num_classes)]\n",
    "len_digits=[len(index1[i]) for i in range(num_classes)]"
   ],
   "metadata": {
    "collapsed": false,
    "ExecuteTime": {
     "start_time": "2023-04-22T11:17:38.555630Z",
     "end_time": "2023-04-22T11:17:38.589022Z"
    }
   }
  },
  {
   "cell_type": "code",
   "execution_count": null,
   "outputs": [],
   "source": [
    "print(s_y_train[0], s_x_train[0])"
   ],
   "metadata": {
    "collapsed": false,
    "ExecuteTime": {
     "start_time": "2023-04-22T11:18:08.495345Z",
     "end_time": "2023-04-22T11:18:08.518777Z"
    }
   }
  },
  {
   "cell_type": "code",
   "execution_count": 23,
   "outputs": [],
   "source": [
    "def train_data_gen(data, index):\n",
    "    pairs_l = []\n",
    "    pairs_r = []\n",
    "    labels = []\n",
    "\n",
    "    for c in range(num_classes):\n",
    "        ran = random.randrange(1, len_digits[c])# for each class: [1, classnum) rand list\n",
    "        for i in range(800):\n",
    "            i1, i2 = index[c][i], index[c][(i + ran)%len_digits[c]]\n",
    "            pairs_l.append(data[i1])\n",
    "            pairs_r.append(data[i2])\n",
    "            labels.append(0) # add positive samples (overall 800*10)\n",
    "    for c in range(num_classes):\n",
    "        for i in range(c): # change c to num_classes\n",
    "            if c == i:\n",
    "                continue\n",
    "\n",
    "            for _ in range(200):\n",
    "                ran1 = random.randrange(1, len_digits[c])\n",
    "                ran2 = random.randrange(1, len_digits[i])\n",
    "                i1, i2 = index[c][ran1], index[i][ran2]\n",
    "                pairs_l.append(data[i1])\n",
    "                pairs_r.append(data[i2])\n",
    "                labels.append(1) # add negative samples (overall 200*45???)\n",
    "\n",
    "    return (np.array(pairs_l),np.array(pairs_r)), np.array(labels).astype('float32')"
   ],
   "metadata": {
    "collapsed": false,
    "ExecuteTime": {
     "start_time": "2023-04-22T11:25:01.358089Z",
     "end_time": "2023-04-22T11:25:01.385273Z"
    }
   }
  },
  {
   "cell_type": "code",
   "execution_count": 24,
   "outputs": [],
   "source": [
    "train_pairs, train_y = train_data_gen(s_x_train, index1)\n",
    "# s_index=np.arange(len(y_test))\n",
    "s_index=np.arange(len(train_y))\n",
    "np.random.shuffle(s_index)\n",
    "train_pairs=(train_pairs[0][s_index],train_pairs[1][s_index])\n",
    "train_y=train_y[s_index]"
   ],
   "metadata": {
    "collapsed": false,
    "ExecuteTime": {
     "start_time": "2023-04-22T11:25:03.378914Z",
     "end_time": "2023-04-22T11:25:03.459695Z"
    }
   }
  },
  {
   "cell_type": "code",
   "execution_count": null,
   "outputs": [],
   "source": [],
   "metadata": {
    "collapsed": false,
    "ExecuteTime": {
     "start_time": "2023-04-22T11:25:52.539545Z",
     "end_time": "2023-04-22T11:25:52.561289Z"
    }
   }
  },
  {
   "cell_type": "code",
   "execution_count": null,
   "outputs": [],
   "source": [],
   "metadata": {
    "collapsed": false
   }
  }
 ],
 "metadata": {
  "kernelspec": {
   "display_name": "Python 3",
   "language": "python",
   "name": "python3"
  },
  "language_info": {
   "codemirror_mode": {
    "name": "ipython",
    "version": 2
   },
   "file_extension": ".py",
   "mimetype": "text/x-python",
   "name": "python",
   "nbconvert_exporter": "python",
   "pygments_lexer": "ipython2",
   "version": "2.7.6"
  }
 },
 "nbformat": 4,
 "nbformat_minor": 0
}
