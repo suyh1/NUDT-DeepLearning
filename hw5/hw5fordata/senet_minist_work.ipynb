{
 "cells": [
  {
   "cell_type": "code",
   "execution_count": 1,
   "outputs": [],
   "source": [
    "import math\n",
    "import numpy as np\n",
    "import matplotlib.pyplot as plt\n",
    "from matplotlib import style\n",
    "import matplotlib\n",
    "import datetime\n",
    "import tensorflow as tf\n",
    "from tensorflow.keras.layers import Dense, Flatten, Conv2D,concatenate,Input,Activation,add,GlobalAveragePooling2D,Reshape,Multiply\n",
    "from tensorflow.keras.utils import plot_model"
   ],
   "metadata": {
    "collapsed": false
   }
  },
  {
   "cell_type": "code",
   "execution_count": 2,
   "outputs": [],
   "source": [
    "def dataModelPreparation():\n",
    "    path = './dataset/mnist.npz'\n",
    "    f = np.load(path)\n",
    "    x_train, y_train = f['x_train'], f['y_train']\n",
    "    x_test, y_test = f['x_test'], f['y_test']\n",
    "    f.close()\n",
    "\n",
    "    h = x_train.shape[1] // 2\n",
    "    w = x_train.shape[2] // 2\n",
    "\n",
    "    x_train = np.expand_dims(x_train, axis=-1)\n",
    "    x_train = tf.image.resize(x_train, [h, w]).numpy()  # if we want to resize\n",
    "    x_test = np.expand_dims(x_test, axis=-1)\n",
    "    x_test = tf.image.resize(x_test, [h, w]).numpy()  # if we want to resize\n",
    "\n",
    "    n_classes = 10\n",
    "\n",
    "\n",
    "    x_train = x_train.astype('float32')\n",
    "    x_test = x_test.astype('float32')\n",
    "    x_train /= 255.0\n",
    "    x_test /= 255.0\n",
    "\n",
    "    yy = y_test\n",
    "    y_ind = yy.argsort()\n",
    "    '''\n",
    "        argsort():\n",
    "            将矩阵a按照axis排序，并返回排序后的下标\n",
    "    '''\n",
    "\n",
    "    label_mask = np.unique(y_test)\n",
    "    '''\n",
    "        对于一维数组或者列表，np.unique() 函数 去除其中重复的元素 ，并按元素 由小到大 返回一个新的无元素重复的元组或者列表。\n",
    "    '''\n",
    "    label_count = {}\n",
    "    for v in label_mask:\n",
    "        label_count[v] = np.sum(y_test == v)\n",
    "    print(\"label_mask值为：\")\n",
    "    print(label_mask)\n",
    "    print(\"统计结果：\")\n",
    "    print(label_count)\n",
    "\n",
    "    example_images = []\n",
    "    total_label = 0\n",
    "    for i in range(0, 10):\n",
    "        example_images += [x_test[y_ind[total_label:total_label + 10]]]\n",
    "        total_label += label_count[i]\n",
    "    # example_images = [x_test[y_ind[i*1100:i*1100+100]] for i in range(0, 10)]\n",
    "    example_images = np.vstack(example_images)\n",
    "    '''\n",
    "        np.vstack() 按垂直方向（行顺序）堆叠数组构成一个新的数组\n",
    "    '''\n",
    "\n",
    "    # Work 1： 建立one-hot标签及训练和测试数据，注意，batchsize为100###\n",
    "    y_train = tf.one_hot(y_train, n_classes)\n",
    "    y_test = tf.one_hot(y_test, n_classes)\n",
    "\n",
    "    train_datasets = tf.data.Dataset.from_tensor_slices((x_train, y_train)).batch(100)\n",
    "\n",
    "    test_datasets = tf.data.Dataset.from_tensor_slices((x_test, y_test)).batch(100)\n",
    "    ################################################################\n",
    "\n",
    "    # Work 2： 建立通道注意力模块#######################################\n",
    "    def SeNetBlock(input,reduction=4):\n",
    "        channels = 16# 得到input的通道数量c\n",
    "        avg_x = tf.keras.layers.GlobalAvgPool2D(name='global_average_pooling2d')(input)#先对feature的每个通道进行全局平均池化Global Average Pooling 得到通道描述子（Squeeze）\n",
    "        x= tf.keras.layers.Reshape((1, 1, 16), name='reshape')(avg_x)#形状匹配做点啥？考虑global average pooling后的特征形状是否适合充当conv2d的输入\n",
    "        x = tf.keras.layers.Conv2D(filters=int(channels)//reduction, kernel_size=1, strides=1, padding='valid', activation='relu', name='conv2d_1')(x)#接着做reduction，用int(channels)//reduction个卷积核对 avg_x做1x1的点卷积, 其他参数：relu,valid\n",
    "        x = tf.keras.layers.Conv2D(filters=int(channels), kernel_size=1, strides=1, padding='valid', name='conv2d_2')(x)#接着用int(channels)个卷积核个数对 x做1x1的点卷积，扩展x回到原来的通道个数,其他参数：不激活,valid\n",
    "        cbam_feature = tf.keras.layers.Activation(activation='hard_sigmoid', name='activation')(x)#对x 做 sigmoid 激活得到通道权重，用'hard_sigmoid'\n",
    "        return tf.keras.layers.Multiply(name='multiply')([input, cbam_feature]), cbam_feature#返回以cbam_feature 为scale，对feature做拉伸加权的结果，注意看网络结构图，这里需要用什么操作实现？\n",
    "    ####################################################################\n",
    "\n",
    "    inputs = tf.keras.Input(shape=(14, 14, 1), name='data')\n",
    "    x = tf.keras.layers.Conv2D(16, kernel_size=(5, 5), strides=(1, 1), activation='relu', padding='valid', name='conv2d')(inputs)\n",
    "\n",
    "    # Work 3.1： 将通道注意力模块连入网络#################\n",
    "    se, cb_feature = SeNetBlock(x)\n",
    "    # output = tf.keras.layers.add([x, se])\n",
    "    ##################################################\n",
    "    # Work 3.2： 完成网络的剩余部分#################\n",
    "    pool = tf.keras.layers.MaxPool2D(pool_size=2, strides=2, name='max_pooling2d')(se)\n",
    "    flatten = tf.keras.layers.Flatten(name='flatten')(pool)\n",
    "    fc1 = tf.keras.layers.Dense(60, name='dense')(flatten)\n",
    "    ##################################################\n",
    "    outputs = tf.keras.layers.Dense(n_classes, activation='softmax', name='dense_1')(fc1)\n",
    "\n",
    "    # Work 4： 利用tf.keras.Model建立两个模型，一个为完整的网络，用于训练；另一个用于输出通道注意力特征\n",
    "    # 注意：两个模型的名称请从后面的代码里找\n",
    "    cbam_feature_model = tf.keras.Model(inputs=inputs, outputs=cb_feature, name='cbam_feature')\n",
    "    senet_lenet = tf.keras.Model(inputs=inputs, outputs=outputs, name='se_net')\n",
    "    ############################################################################################\n",
    "\n",
    "    cbam_feature_output = cbam_feature_model(example_images).numpy()\n",
    "    cbam_feature_matrix = cbam_feature_output.reshape((100, 16))\n",
    "\n",
    "    plt.figure(num='cbam', figsize=(3, 8))\n",
    "    plt.imshow(cbam_feature_matrix, cmap=plt.get_cmap('hot'))\n",
    "    plt.colorbar()\n",
    "    plt.savefig(\"./test_figure/step1/cbam.png\")\n",
    "\n",
    "    plot_model(senet_lenet, to_file='./test_figure/step1/senet_lenet.png', show_shapes=True,expand_nested=True)\n",
    "\n",
    "    return train_datasets, test_datasets, senet_lenet, example_images"
   ],
   "metadata": {
    "collapsed": false
   }
  },
  {
   "cell_type": "code",
   "execution_count": 3,
   "outputs": [
    {
     "name": "stdout",
     "output_type": "stream",
     "text": [
      "label_mask值为：\n",
      "[0 1 2 3 4 5 6 7 8 9]\n",
      "统计结果：\n",
      "{0: 980, 1: 1135, 2: 1032, 3: 1010, 4: 982, 5: 892, 6: 958, 7: 1028, 8: 974, 9: 1009}\n"
     ]
    },
    {
     "data": {
      "text/plain": "(<BatchDataset element_spec=(TensorSpec(shape=(None, 14, 14, 1), dtype=tf.float32, name=None), TensorSpec(shape=(None, 10), dtype=tf.float32, name=None))>,\n <BatchDataset element_spec=(TensorSpec(shape=(None, 14, 14, 1), dtype=tf.float32, name=None), TensorSpec(shape=(None, 10), dtype=tf.float32, name=None))>,\n <keras.engine.functional.Functional at 0x2ae3bbced60>,\n array([[[[0.        ],\n          [0.        ],\n          [0.        ],\n          ...,\n          [0.        ],\n          [0.        ],\n          [0.        ]],\n \n         [[0.        ],\n          [0.        ],\n          [0.        ],\n          ...,\n          [0.        ],\n          [0.        ],\n          [0.        ]],\n \n         [[0.        ],\n          [0.        ],\n          [0.        ],\n          ...,\n          [0.        ],\n          [0.        ],\n          [0.        ]],\n \n         ...,\n \n         [[0.        ],\n          [0.        ],\n          [0.        ],\n          ...,\n          [0.        ],\n          [0.        ],\n          [0.        ]],\n \n         [[0.        ],\n          [0.        ],\n          [0.        ],\n          ...,\n          [0.        ],\n          [0.        ],\n          [0.        ]],\n \n         [[0.        ],\n          [0.        ],\n          [0.        ],\n          ...,\n          [0.        ],\n          [0.        ],\n          [0.        ]]],\n \n \n        [[[0.        ],\n          [0.        ],\n          [0.        ],\n          ...,\n          [0.        ],\n          [0.        ],\n          [0.        ]],\n \n         [[0.        ],\n          [0.        ],\n          [0.        ],\n          ...,\n          [0.        ],\n          [0.        ],\n          [0.        ]],\n \n         [[0.        ],\n          [0.        ],\n          [0.        ],\n          ...,\n          [0.        ],\n          [0.        ],\n          [0.        ]],\n \n         ...,\n \n         [[0.        ],\n          [0.        ],\n          [0.        ],\n          ...,\n          [0.        ],\n          [0.        ],\n          [0.        ]],\n \n         [[0.        ],\n          [0.        ],\n          [0.        ],\n          ...,\n          [0.        ],\n          [0.        ],\n          [0.        ]],\n \n         [[0.        ],\n          [0.        ],\n          [0.        ],\n          ...,\n          [0.        ],\n          [0.        ],\n          [0.        ]]],\n \n \n        [[[0.        ],\n          [0.        ],\n          [0.        ],\n          ...,\n          [0.        ],\n          [0.        ],\n          [0.        ]],\n \n         [[0.        ],\n          [0.        ],\n          [0.        ],\n          ...,\n          [0.        ],\n          [0.        ],\n          [0.        ]],\n \n         [[0.        ],\n          [0.        ],\n          [0.        ],\n          ...,\n          [0.        ],\n          [0.        ],\n          [0.        ]],\n \n         ...,\n \n         [[0.        ],\n          [0.        ],\n          [0.        ],\n          ...,\n          [0.        ],\n          [0.        ],\n          [0.        ]],\n \n         [[0.        ],\n          [0.        ],\n          [0.        ],\n          ...,\n          [0.        ],\n          [0.        ],\n          [0.        ]],\n \n         [[0.        ],\n          [0.        ],\n          [0.        ],\n          ...,\n          [0.        ],\n          [0.        ],\n          [0.        ]]],\n \n \n        ...,\n \n \n        [[[0.        ],\n          [0.        ],\n          [0.        ],\n          ...,\n          [0.        ],\n          [0.        ],\n          [0.        ]],\n \n         [[0.        ],\n          [0.        ],\n          [0.        ],\n          ...,\n          [0.        ],\n          [0.        ],\n          [0.        ]],\n \n         [[0.        ],\n          [0.        ],\n          [0.        ],\n          ...,\n          [0.        ],\n          [0.        ],\n          [0.        ]],\n \n         ...,\n \n         [[0.        ],\n          [0.        ],\n          [0.        ],\n          ...,\n          [0.        ],\n          [0.        ],\n          [0.        ]],\n \n         [[0.        ],\n          [0.        ],\n          [0.        ],\n          ...,\n          [0.        ],\n          [0.        ],\n          [0.        ]],\n \n         [[0.        ],\n          [0.        ],\n          [0.        ],\n          ...,\n          [0.        ],\n          [0.        ],\n          [0.        ]]],\n \n \n        [[[0.        ],\n          [0.        ],\n          [0.        ],\n          ...,\n          [0.        ],\n          [0.        ],\n          [0.        ]],\n \n         [[0.        ],\n          [0.        ],\n          [0.        ],\n          ...,\n          [0.        ],\n          [0.        ],\n          [0.        ]],\n \n         [[0.        ],\n          [0.        ],\n          [0.        ],\n          ...,\n          [0.        ],\n          [0.        ],\n          [0.        ]],\n \n         ...,\n \n         [[0.        ],\n          [0.        ],\n          [0.        ],\n          ...,\n          [0.        ],\n          [0.        ],\n          [0.        ]],\n \n         [[0.        ],\n          [0.        ],\n          [0.        ],\n          ...,\n          [0.        ],\n          [0.        ],\n          [0.        ]],\n \n         [[0.        ],\n          [0.        ],\n          [0.        ],\n          ...,\n          [0.        ],\n          [0.        ],\n          [0.        ]]],\n \n \n        [[[0.        ],\n          [0.        ],\n          [0.        ],\n          ...,\n          [0.        ],\n          [0.        ],\n          [0.        ]],\n \n         [[0.        ],\n          [0.        ],\n          [0.        ],\n          ...,\n          [0.        ],\n          [0.        ],\n          [0.        ]],\n \n         [[0.        ],\n          [0.        ],\n          [0.        ],\n          ...,\n          [0.        ],\n          [0.        ],\n          [0.        ]],\n \n         ...,\n \n         [[0.        ],\n          [0.        ],\n          [0.        ],\n          ...,\n          [0.        ],\n          [0.        ],\n          [0.        ]],\n \n         [[0.        ],\n          [0.        ],\n          [0.        ],\n          ...,\n          [0.00784314],\n          [0.        ],\n          [0.        ]],\n \n         [[0.        ],\n          [0.        ],\n          [0.        ],\n          ...,\n          [0.00294118],\n          [0.        ],\n          [0.        ]]]], dtype=float32))"
     },
     "execution_count": 3,
     "metadata": {},
     "output_type": "execute_result"
    },
    {
     "data": {
      "text/plain": "<Figure size 300x800 with 2 Axes>",
      "image/png": "[encoded data removed]"
     },
     "metadata": {},
     "output_type": "display_data"
    }
   ],
   "source": [
    "dataModelPreparation()"
   ],
   "metadata": {
    "collapsed": false
   }
  },
  {
   "cell_type": "code",
   "execution_count": 4,
   "outputs": [],
   "source": [
    "def test_fun():\n",
    "    train_datasets, test_datasets, senet_lenet, example_images = dataModelPreparation()\n",
    "    # Work 5： 完成模型的编译和训练###########################################\n",
    "    senet_lenet.compile(\n",
    "        optimizer=tf.keras.optimizers.Adam(learning_rate=0.01),\n",
    "        loss=tf.keras.losses.categorical_crossentropy,\n",
    "        metrics=['acc']\n",
    "    )\n",
    "\n",
    "    history = senet_lenet.fit(\n",
    "        train_datasets,\n",
    "        validation_data=test_datasets,\n",
    "        batch_size=64,\n",
    "        epochs=1, # epoch数量不要改变！！！\n",
    "        verbose=2\n",
    "    )\n",
    "    #########################################################################\n",
    "    return senet_lenet, history"
   ],
   "metadata": {
    "collapsed": false
   }
  },
  {
   "cell_type": "code",
   "execution_count": null,
   "outputs": [
    {
     "name": "stdout",
     "output_type": "stream",
     "text": [
      "label_mask值为：\n",
      "[0 1 2 3 4 5 6 7 8 9]\n",
      "统计结果：\n",
      "{0: 980, 1: 1135, 2: 1032, 3: 1010, 4: 982, 5: 892, 6: 958, 7: 1028, 8: 974, 9: 1009}\n"
     ]
    }
   ],
   "source": [
    "test_fun()"
   ],
   "metadata": {
    "collapsed": false,
    "pycharm": {
     "is_executing": true
    }
   }
  },
  {
   "cell_type": "code",
   "execution_count": null,
   "outputs": [],
   "source": [],
   "metadata": {
    "collapsed": false,
    "pycharm": {
     "is_executing": true
    }
   }
  }
 ],
 "metadata": {
  "kernelspec": {
   "display_name": "Python 3",
   "language": "python",
   "name": "python3"
  },
  "language_info": {
   "codemirror_mode": {
    "name": "ipython",
    "version": 2
   },
   "file_extension": ".py",
   "mimetype": "text/x-python",
   "name": "python",
   "nbconvert_exporter": "python",
   "pygments_lexer": "ipython2",
   "version": "2.7.6"
  }
 },
 "nbformat": 4,
 "nbformat_minor": 0
}
